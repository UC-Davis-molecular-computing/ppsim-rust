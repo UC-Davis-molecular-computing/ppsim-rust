{
 "cells": [
  {
   "cell_type": "code",
   "execution_count": 1,
   "id": "dd13e1ef-86b9-47bf-9871-3223c75fcec6",
   "metadata": {},
   "outputs": [],
   "source": [
    "import ppsim as pp\n",
    "import numpy as np\n",
    "import pickle\n",
    "import pandas as pd\n",
    "from matplotlib import pyplot as plt\n",
    "# Uncomment this line to make all plots interactive\n",
    "# %matplotlib widget"
   ]
  },
  {
   "cell_type": "code",
   "execution_count": 2,
   "id": "2b485b9c-ee78-419e-b9f1-4a67768d9572",
   "metadata": {},
   "outputs": [
    {
     "name": "stderr",
     "output_type": "stream",
     "text": [
      " 91%|███████████████████████████████████████████████████████████      | 18.167/20 [00:00<00:00, 90.84 time simulated/s]"
     ]
    },
    {
     "ename": "KeyboardInterrupt",
     "evalue": "",
     "output_type": "error",
     "traceback": [
      "\u001b[1;31m---------------------------------------------------------------------------\u001b[0m",
      "\u001b[1;31mKeyboardInterrupt\u001b[0m                         Traceback (most recent call last)",
      "Cell \u001b[1;32mIn[2], line 9\u001b[0m\n\u001b[0;32m      7\u001b[0m init_config \u001b[38;5;241m=\u001b[39m {a: \u001b[38;5;241m60_000\u001b[39m, b: \u001b[38;5;241m40_000\u001b[39m}\n\u001b[0;32m      8\u001b[0m sim \u001b[38;5;241m=\u001b[39m pp\u001b[38;5;241m.\u001b[39mSimulation(init_config, approx_majority, seed\u001b[38;5;241m=\u001b[39m\u001b[38;5;241m0\u001b[39m)\n\u001b[1;32m----> 9\u001b[0m \u001b[43msim\u001b[49m\u001b[38;5;241;43m.\u001b[39;49m\u001b[43mrun\u001b[49m\u001b[43m(\u001b[49m\u001b[38;5;241;43m20\u001b[39;49m\u001b[43m,\u001b[49m\u001b[43m \u001b[49m\u001b[38;5;241;43m0.1\u001b[39;49m\u001b[43m)\u001b[49m\n\u001b[0;32m     10\u001b[0m sim\u001b[38;5;241m.\u001b[39mhistory\u001b[38;5;241m.\u001b[39mplot(figsize\u001b[38;5;241m=\u001b[39m(\u001b[38;5;241m10\u001b[39m,\u001b[38;5;241m5\u001b[39m)) \u001b[38;5;66;03m# .plot(figsize = (6, 4))\u001b[39;00m\n\u001b[0;32m     11\u001b[0m plt\u001b[38;5;241m.\u001b[39mtitle(\u001b[38;5;124m'\u001b[39m\u001b[38;5;124mapproximate majority (ppsim)\u001b[39m\u001b[38;5;124m'\u001b[39m)\n",
      "File \u001b[1;32mC:\\Dropbox\\git\\ppsim-rust\\ppsim\\simulation.py:548\u001b[0m, in \u001b[0;36mSimulation.run\u001b[1;34m(self, run_until, history_interval, stopping_interval, timer)\u001b[0m\n\u001b[0;32m    546\u001b[0m     next_history_time \u001b[38;5;241m=\u001b[39m get_next_history_time()\n\u001b[0;32m    547\u001b[0m \u001b[38;5;28;01mfor\u001b[39;00m snapshot \u001b[38;5;129;01min\u001b[39;00m \u001b[38;5;28mself\u001b[39m\u001b[38;5;241m.\u001b[39msnapshots:\n\u001b[1;32m--> 548\u001b[0m     \u001b[38;5;28;01mif\u001b[39;00m \u001b[43mperf_counter\u001b[49m\u001b[43m(\u001b[49m\u001b[43m)\u001b[49m \u001b[38;5;241m>\u001b[39m\u001b[38;5;241m=\u001b[39m snapshot\u001b[38;5;241m.\u001b[39mnext_snapshot_time:\n\u001b[0;32m    549\u001b[0m         snapshot\u001b[38;5;241m.\u001b[39mupdate()\n\u001b[0;32m    550\u001b[0m         snapshot\u001b[38;5;241m.\u001b[39mnext_snapshot_time \u001b[38;5;241m=\u001b[39m perf_counter() \u001b[38;5;241m+\u001b[39m snapshot\u001b[38;5;241m.\u001b[39mupdate_time\n",
      "\u001b[1;31mKeyboardInterrupt\u001b[0m: "
     ]
    }
   ],
   "source": [
    "a,b,u = pp.species('A B U')\n",
    "approx_majority = [\n",
    "    a+b >> 2*u,\n",
    "    a+u >> 2*a,\n",
    "    b+u >> 2*b,\n",
    "]\n",
    "init_config = {a: 60_000, b: 40_000}\n",
    "sim = pp.Simulation(init_config, approx_majority, seed=0)\n",
    "sim.run(20, 0.1)\n",
    "sim.history.plot(figsize=(10,5)) # .plot(figsize = (6, 4))\n",
    "plt.title('approximate majority (ppsim)')\n",
    "plt.show()"
   ]
  }
 ],
 "metadata": {
  "kernelspec": {
   "display_name": "Python 3 (ipykernel)",
   "language": "python",
   "name": "python3"
  },
  "language_info": {
   "codemirror_mode": {
    "name": "ipython",
    "version": 3
   },
   "file_extension": ".py",
   "mimetype": "text/x-python",
   "name": "python",
   "nbconvert_exporter": "python",
   "pygments_lexer": "ipython3",
   "version": "3.12.3"
  }
 },
 "nbformat": 4,
 "nbformat_minor": 5
}
