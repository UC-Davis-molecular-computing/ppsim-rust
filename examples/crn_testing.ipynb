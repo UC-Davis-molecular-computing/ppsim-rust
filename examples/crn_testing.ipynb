{
 "cells": [
  {
   "cell_type": "markdown",
   "metadata": {},
   "source": [
    "This is a scratch work notebook for testing CRN transformation things."
   ]
  },
  {
   "cell_type": "code",
   "execution_count": null,
   "metadata": {
    "collapsed": false,
    "jupyter": {
     "outputs_hidden": false
    },
    "pycharm": {
     "name": "#%%\n"
    }
   },
   "outputs": [],
   "source": [
    "import ppsim as pp\n",
    "import numpy as np\n",
    "import pickle\n",
    "import pandas as pd\n",
    "from matplotlib import pyplot as plt\n",
    "# Uncomment this line to make all plots interactive\n",
    "# %matplotlib widget"
   ]
  },
  {
   "cell_type": "code",
   "execution_count": null,
   "metadata": {
    "tags": []
   },
   "outputs": [],
   "source": [
    "a,b,c = pp.species('A B C')\n",
    "testing_rxns = [\n",
    "    a+b | c,\n",
    "]\n",
    "crn = pp.CRN(reactions=testing_rxns)\n",
    "print(crn)\n",
    "new_crn = pp.convert_to_uniform(crn, 5)\n",
    "print(new_crn)"
   ]
  },
  {
   "cell_type": "code",
   "execution_count": null,
   "metadata": {},
   "outputs": [],
   "source": [
    "a,b,u = pp.species('A B U')\n",
    "approx_majority = [\n",
    "    a+b >> 2*u,\n",
    "    a+u >> 2*a,\n",
    "    b+u >> 2*b,\n",
    "]\n",
    "n = 10 ** 2\n",
    "p = 0.51 # TODO: restore this\n",
    "# p = 0.5\n",
    "a_init = int(n * p)\n",
    "b_init = n - a_init\n",
    "inits = {a: a_init, b: b_init}\n",
    "# for seed in range(100):\n",
    "#     print(f'{seed=}')\n",
    "seed = 3\n",
    "sim = pp.Simulation(inits, approx_majority, simulator_method=\"crn\", seed=seed)\n",
    "\n",
    "simulator = sim.simulator\n",
    "sample = simulator.sample_collision()"
   ]
  }
 ],
 "metadata": {
  "kernelspec": {
   "display_name": ".venv",
   "language": "python",
   "name": "python3"
  },
  "language_info": {
   "codemirror_mode": {
    "name": "ipython",
    "version": 3
   },
   "file_extension": ".py",
   "mimetype": "text/x-python",
   "name": "python",
   "nbconvert_exporter": "python",
   "pygments_lexer": "ipython3",
   "version": "3.13.3"
  }
 },
 "nbformat": 4,
 "nbformat_minor": 4
}
